{
 "cells": [
  {
   "cell_type": "code",
   "execution_count": 27,
   "metadata": {},
   "outputs": [],
   "source": [
    "# implimenting the sigmoid function\n",
    "#notice here that the input is a real and we need to change this later to accept vectors\n",
    "\n",
    "import math\n",
    "def simple_sig(x):\n",
    "    s = 1 / (1 + math.exp(-x))\n",
    "    return s\n",
    "\n",
    "#vec input implimentation\n",
    "import numpy as np\n",
    "def vector_sig(x):\n",
    "    s = 1 / (1 + np.exp(-x))\n",
    "    return s\n",
    "\n",
    "#implementing deffrintiation of sigmoid\n",
    "def segmoid_derivative(x):\n",
    "    s = vector_sig(x)\n",
    "    ds = s * (1 - (s))\n",
    "    return ds\n",
    "#implementing the reshape function\n",
    "import numpy as np\n",
    "def image2vec(image):\n",
    "    v = image.reshape((image.shape[0] * image.shape[1], 1))\n",
    "    return v\n",
    "\n",
    "#Normalization of rows\n",
    "def normalizeRows(x):\n",
    "    x_norm = np.linalg.norm(x, ord = 2, axis = 1, keepdims= True)\n",
    "    x = x / x_norm\n",
    "    return x\n",
    "\n",
    "def softmax(x):\n",
    "    soft = np.exp(x)\n",
    "    soft_sum = np.sum(soft, axis = 1, keepdims= True)\n",
    "    s = soft / soft_sum\n",
    "    return s\n",
    "#implimenting the cost function_L1\n",
    "def costL1(predicted, actual):\n",
    "    loss = np.sum(abs(predicted - actual))\n",
    "    return loss\n",
    "\n",
    "def costL2(predicted, actual):\n",
    "    loss = np.dot(abs(predicted - actual),abs(predicted - actual))\n",
    "    return loss"
   ]
  },
  {
   "cell_type": "code",
   "execution_count": 28,
   "metadata": {},
   "outputs": [
    {
     "name": "stdout",
     "output_type": "stream",
     "text": [
      "L1 = 0.43\n"
     ]
    }
   ],
   "source": [
    "predicted = np.array([.9, 0.2, 0.1, 0.4, .9])\n",
    "actual = np.array([1, 0, 0, 1,1])\n",
    "\n",
    "print(\"L1 = \" + str(costL2(predicted, actual)))"
   ]
  },
  {
   "cell_type": "code",
   "execution_count": null,
   "metadata": {},
   "outputs": [],
   "source": []
  },
  {
   "cell_type": "code",
   "execution_count": null,
   "metadata": {
    "collapsed": true
   },
   "outputs": [],
   "source": []
  }
 ],
 "metadata": {
  "kernelspec": {
   "display_name": "Python 3",
   "language": "python",
   "name": "python3"
  },
  "language_info": {
   "codemirror_mode": {
    "name": "ipython",
    "version": 3
   },
   "file_extension": ".py",
   "mimetype": "text/x-python",
   "name": "python",
   "nbconvert_exporter": "python",
   "pygments_lexer": "ipython3",
   "version": "3.6.3"
  }
 },
 "nbformat": 4,
 "nbformat_minor": 2
}
